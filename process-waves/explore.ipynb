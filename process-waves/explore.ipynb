{
 "cells": [
  {
   "cell_type": "code",
   "execution_count": 1,
   "metadata": {},
   "outputs": [
    {
     "name": "stdout",
     "output_type": "stream",
     "text": [
      "Thank you for using Pysiology. If you use it in your work, please cite:\n",
      "Gabrieli G., Azhari A., Esposito G. (2020) PySiology: A Python Package for Physiological Feature Extraction. In: Esposito A., Faundez-Zanuy M., Morabito F., Pasero E. (eds) Neural Approaches to Dynamics of Signal Exchanges. Smart Innovation, Systems and Technologies, vol 151. Springer, Singapore. https://doi.org/10.1007/978-981-13-8950-4_35\n"
     ]
    }
   ],
   "source": [
    "import pickle\n",
    "import numpy as np\n",
    "import pandas as pd\n",
    "from tqdm.notebook import tqdm\n",
    "import pysiology # reference https://github.com/Gabrock94/Pysiology\n",
    "import neurokit2 as nk #  https://neuropsychology.github.io/NeuroKit/functions/ecg.html\n",
    "\n",
    "pd.set_option('display.max_rows', 500)\n",
    "pd.set_option('display.max_columns', 500)\n",
    "import matplotlib.pyplot as plt\n",
    "\n",
    "# Import local Libraries\n",
    "from features.feature_extractor import Features\n",
    "\n",
    "# Configure Notebook\n",
    "import warnings\n",
    "warnings.filterwarnings('ignore')\n",
    "%matplotlib inline\n",
    "%load_ext autoreload\n",
    "%autoreload 2"
   ]
  },
  {
   "cell_type": "code",
   "execution_count": 2,
   "metadata": {},
   "outputs": [
    {
     "name": "stdout",
     "output_type": "stream",
     "text": [
      "patients 4917\n",
      "admissions 5235\n",
      "hadm_id is a unique index on this dataframe\n",
      "train, tune, test splits are on a per-patient basis and not per-admission basis\n",
      "['II'] waveforms have been captured \n"
     ]
    }
   ],
   "source": [
    "# overview\n",
    "traj = pd.read_csv('../data/trajectories_with_features.csv')\n",
    "waves = ['II'] # ignore 'I', 'III', 'V', 'PAP'\n",
    "print('patients',traj.subject_id.drop_duplicates().shape[0])\n",
    "print('admissions',traj.hadm_id.drop_duplicates().shape[0])\n",
    "print('hadm_id is a unique index on this dataframe')\n",
    "print('train, tune, test splits are on a per-patient basis and not per-admission basis')\n",
    "print(waves, \"waveforms have been captured \")"
   ]
  },
  {
   "cell_type": "code",
   "execution_count": 3,
   "metadata": {},
   "outputs": [],
   "source": [
    "traj = pd.read_csv('../data/trajectories_with_features.csv')\n",
    "traj = traj.dropna(axis=1, how='all')\n",
    "traj = traj.loc[traj.full_waveform_duration.notna(),:] # remove this line once all features are generated\n",
    "features = traj.columns[list(traj.columns.values).index('split')+1:].values # all feature columns come after \"split\"\n",
    "for f in features: \n",
    "    x = traj.get(f).values\n",
    "    if (x == -np.inf).any(): \n",
    "        min_val = np.sort(np.unique(x))[1]\n",
    "        x = np.where(x == -np.inf, min_val, x)\n",
    "    if (x == np.inf).any(): \n",
    "        max_val = np.sort(np.unique(x))[-3]\n",
    "        x = np.where(x == np.inf, max_val, x)\n",
    "    if np.isnan(x).any(): \n",
    "        nan_val = np.mean(x[~np.isnan(x)])\n",
    "        x = np.where(np.isnan(x), nan_val, x)\n",
    "    mu, sigma = np.mean(x), np.std(x)\n",
    "    categories = [*range(-2,3)]\n",
    "    intervals = [-1*float('inf'),] + [(mu+(i*sigma)) for i in range(-2,0)] + [(mu+(i*sigma)) for i in range(1,3)] + [float('inf'),]\n",
    "    for i in range(len(categories)): \n",
    "        start, end = intervals[i], intervals[i+1]\n",
    "        traj.loc[np.logical_and(x>=start, x<end), f] = categories[i]\n",
    "\n",
    "traj.to_csv('../data/trajectories_with_categorical_features.csv',index=False)"
   ]
  },
  {
   "cell_type": "code",
   "execution_count": null,
   "metadata": {},
   "outputs": [],
   "source": []
  },
  {
   "cell_type": "code",
   "execution_count": null,
   "metadata": {},
   "outputs": [],
   "source": []
  }
 ],
 "metadata": {
  "kernelspec": {
   "display_name": "wave-mixehr",
   "language": "python",
   "name": "python3"
  },
  "language_info": {
   "codemirror_mode": {
    "name": "ipython",
    "version": 3
   },
   "file_extension": ".py",
   "mimetype": "text/x-python",
   "name": "python",
   "nbconvert_exporter": "python",
   "pygments_lexer": "ipython3",
   "version": "3.8.13"
  },
  "orig_nbformat": 4
 },
 "nbformat": 4,
 "nbformat_minor": 2
}
