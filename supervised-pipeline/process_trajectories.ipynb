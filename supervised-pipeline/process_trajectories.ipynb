{
 "cells": [
  {
   "cell_type": "code",
   "execution_count": null,
   "id": "345f8c42-39fc-45cd-9def-cdfdc98b56be",
   "metadata": {},
   "outputs": [],
   "source": [
    "import pandas as pd\n",
    "import numpy as np\n",
    "import torch\n"
   ]
  },
  {
   "cell_type": "code",
   "execution_count": null,
   "id": "f13492ef-cde1-4019-b9aa-313e8922710a",
   "metadata": {},
   "outputs": [],
   "source": [
    "df = pd.read_csv('../data/trajectories_with_features.csv')\n",
    "los_df = pd.read_csv('../data/length_of_stay.csv')\n"
   ]
  },
  {
   "cell_type": "code",
   "execution_count": null,
   "id": "df9b3c1d-51e9-4ed2-89d9-4fbee9555f79",
   "metadata": {},
   "outputs": [],
   "source": [
    "print(list(df.columns))\n",
    "train_set = df[df['split'] == 'train']\n",
    "test_set = df[df['split'] == 'test']"
   ]
  },
  {
   "cell_type": "code",
   "execution_count": null,
   "id": "1f151f67-40e4-49bf-b4a3-da7950974145",
   "metadata": {},
   "outputs": [],
   "source": [
    "print(df.head)"
   ]
  },
  {
   "cell_type": "code",
   "execution_count": null,
   "id": "b4cde69d-03ba-4325-a702-cef79b104063",
   "metadata": {},
   "outputs": [],
   "source": [
    "print(los_df.columns)"
   ]
  },
  {
   "cell_type": "code",
   "execution_count": null,
   "id": "eef9c237-de2f-41b5-bf3f-45f658de6140",
   "metadata": {},
   "outputs": [],
   "source": [
    "# check number of unique hadm_ids in each df\n",
    "print(len(los_df))\n",
    "print(len(np.unique(los_df['hadm_id'])))\n",
    "print(len(df))\n",
    "print(len(np.unique(df['hadm_id']))) # only 5k unique hadms"
   ]
  },
  {
   "cell_type": "code",
   "execution_count": null,
   "id": "8a5cedb0-6cc8-4749-9ed0-3dbac3477273",
   "metadata": {},
   "outputs": [],
   "source": [
    "def add_los(df, los_df):\n",
    "    \"\"\"\n",
    "    add LOS as column to original df according to matching hadm_id\n",
    "    if multiple matches in los_df, return the max length\n",
    "    if day_cutoff, also add a binarized result \n",
    "    \"\"\"\n",
    "    lengths = []\n",
    "    for i, row in df.iterrows():\n",
    "        stay_len = np.max(los_df[los_df['hadm_id'] == row['hadm_id']]['length_of_stay'])\n",
    "        lengths.append(stay_len)\n",
    "    df['length_of_stay'] = lengths\n",
    "    return df\n",
    "\n",
    "\n",
    "DAY_CUTOFF = 14\n",
    "df = add_los(df, los_df)\n",
    "    \n",
    "    \n",
    "    \n",
    "    "
   ]
  },
  {
   "cell_type": "code",
   "execution_count": null,
   "id": "9d85b84a-2887-4726-a9aa-b529c4c5740f",
   "metadata": {},
   "outputs": [],
   "source": [
    "FIRST_FEAT_COL = 22\n",
    "[print(col) for i, col in enumerate(df.columns) if i >= FIRST_FEAT_COL]\n",
    "feature_cols = df.columns[FIRST_FEAT_COL:]"
   ]
  },
  {
   "cell_type": "code",
   "execution_count": null,
   "id": "1765f221-3b81-4ee1-9e5a-64615d415238",
   "metadata": {},
   "outputs": [],
   "source": [
    "print(feature_cols)"
   ]
  },
  {
   "cell_type": "code",
   "execution_count": null,
   "id": "a6a19280-721f-4241-84fa-e1c645f65aaa",
   "metadata": {},
   "outputs": [],
   "source": [
    "def add_binary_los(df, day_cutoff):\n",
    "    \"\"\"\n",
    "    from los in df, add binary label if los > day_cutoff\n",
    "    \"\"\"\n",
    "    los = np.array(df['length_of_stay'])\n",
    "    labels = los > day_cutoff\n",
    "    df['binary_los'] = labels\n",
    "    return df\n",
    "\n",
    "df = add_binary_los(df, DAY_CUTOFF)\n",
    "df.to_csv(f'../data/trajectories_los.csv')"
   ]
  },
  {
   "cell_type": "code",
   "execution_count": null,
   "id": "171bf1f2-fe36-44d9-97d3-ccdbc80424cf",
   "metadata": {},
   "outputs": [],
   "source": [
    "# plot the distribution of labels\n",
    "import matplotlib.pyplot as plt\n",
    "\n",
    "plt.hist(df['length_of_stay'])\n",
    "plt.xlabel('days in ICU')\n"
   ]
  },
  {
   "cell_type": "code",
   "execution_count": null,
   "id": "499a80ee-87fe-4d1f-9918-e99c6f59d865",
   "metadata": {},
   "outputs": [],
   "source": [
    "vals, counts = np.unique(df['binary_los'], return_counts=True)\n",
    "plt.bar(['<14 days', '>=14 days'], counts)\n",
    "print(counts)"
   ]
  },
  {
   "cell_type": "code",
   "execution_count": null,
   "id": "066e439c-3f2c-49e4-8e24-0908c0a88a13",
   "metadata": {},
   "outputs": [],
   "source": [
    "# replace missing values with 0\n",
    "def replace_missing_vals(df, method='fill'):\n",
    "    \"\"\"\n",
    "    either replace missing vals with zero or drop cols\n",
    "    \"\"\"\n",
    "    if method == 'fill':\n",
    "        df = df.fillna(0)\n",
    "        df.replace([np.inf, -np.inf], 0, inplace=True)\n",
    "    elif method == 'drop':\n",
    "        pass\n",
    "    return df"
   ]
  },
  {
   "cell_type": "code",
   "execution_count": null,
   "id": "2f767cb4-55bb-402f-9eb7-636a69d07e77",
   "metadata": {},
   "outputs": [],
   "source": [
    "print(df.columns)\n",
    "train_set = df[df['split'] == 'train']\n",
    "test_set = df[df['split'] == 'test']\n",
    "train_labels = train_set['binary_los']\n",
    "test_labels = test_set['binary_los']\n",
    "train_set = train_set.drop(columns=['binary_los', 'length_of_stay'])\n",
    "test_set = test_set.drop(columns=['binary_los', 'length_of_stay'])\n",
    "train_set = train_set.iloc[:, FIRST_FEAT_COL:]\n",
    "test_set = test_set.iloc[:, FIRST_FEAT_COL:]\n",
    "train_set = replace_missing_vals(train_set)\n",
    "test_set = replace_missing_vals(test_set)"
   ]
  },
  {
   "cell_type": "code",
   "execution_count": null,
   "id": "9cbd6f32-08d9-46c2-bc69-779b676ac6f1",
   "metadata": {},
   "outputs": [],
   "source": [
    "# XGBoost\n",
    "from sklearn.metrics import roc_auc_score\n",
    "from sklearn.metrics import average_precision_score\n",
    "from sklearn.ensemble import GradientBoostingClassifier\n",
    "clf = GradientBoostingClassifier(n_estimators=300, learning_rate=0.1, max_depth=None, random_state=0).fit(train_set, train_labels)\n",
    "\n",
    "preds = clf.predict_proba(test_set)[:, 1]\n",
    "print(f'\\t AUC:: {roc_auc_score(test_labels, preds)}')  \n",
    "print('Average precision-recall score: {0:0.2f}'.format(average_precision_score(test_labels, preds))) "
   ]
  },
  {
   "cell_type": "code",
   "execution_count": null,
   "id": "455ab77b-bdb6-469c-aa25-e505ab77074c",
   "metadata": {},
   "outputs": [],
   "source": [
    "\n",
    "def autolabel(rects):\n",
    "    \"\"\"\n",
    "    Attach a text label above each bar displaying its height\n",
    "    \"\"\"\n",
    "    for rect in rects:\n",
    "        height = rect.get_height()\n",
    "        ax.text(rect.get_x() + rect.get_width()/2., 1.05*height,\n",
    "                height,\n",
    "                ha='center', va='bottom')\n"
   ]
  },
  {
   "cell_type": "code",
   "execution_count": null,
   "id": "4232f16c-b007-4dd0-aab1-109adc4ab934",
   "metadata": {},
   "outputs": [],
   "source": [
    "tasks = ['ecg categorical', 'ecg continuous']\n",
    "performance = [0.582, 0.591]\n",
    "fig, ax = plt.subplots()\n",
    "rects = plt.bar(tasks, performance)\n",
    "autolabel(rects)\n",
    "plt.xlabel('auc on LOS >= 14 days')\n",
    "plt.show()"
   ]
  },
  {
   "cell_type": "code",
   "execution_count": null,
   "id": "493f2d1e-8596-4c26-b93e-a14d2172ea10",
   "metadata": {},
   "outputs": [],
   "source": []
  }
 ],
 "metadata": {
  "kernelspec": {
   "display_name": "Python 3 (ipykernel)",
   "language": "python",
   "name": "python3"
  },
  "language_info": {
   "codemirror_mode": {
    "name": "ipython",
    "version": 3
   },
   "file_extension": ".py",
   "mimetype": "text/x-python",
   "name": "python",
   "nbconvert_exporter": "python",
   "pygments_lexer": "ipython3",
   "version": "3.8.13"
  }
 },
 "nbformat": 4,
 "nbformat_minor": 5
}
